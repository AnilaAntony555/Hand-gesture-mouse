{
 "cells": [
  {
   "cell_type": "code",
   "execution_count": 1,
   "metadata": {},
   "outputs": [],
   "source": [
    "import cv2\n",
    "import mediapipe as mp\n",
    "import pyautogui\n",
    "import random\n",
    "import numpy as np\n",
    "from pynput.mouse import Button, Controller\n",
    "\n",
    "mouse = Controller()\n",
    "screen_width, screen_height = pyautogui.size()"
   ]
  },
  {
   "cell_type": "code",
   "execution_count": 2,
   "metadata": {},
   "outputs": [],
   "source": [
    "# Initialize Mediapipe Hands\n",
    "mpHands = mp.solutions.hands\n",
    "hands = mpHands.Hands(\n",
    "    static_image_mode=False,\n",
    "    model_complexity=1,\n",
    "    min_detection_confidence=0.7,\n",
    "    min_tracking_confidence=0.7,\n",
    "    max_num_hands=1\n",
    ")"
   ]
  },
  {
   "cell_type": "code",
   "execution_count": 3,
   "metadata": {},
   "outputs": [],
   "source": [
    "# Helper functions\n",
    "def get_angle(a, b, c):\n",
    "    # Calculate angle between points a, b, c\n",
    "    radians = np.arctan2(c[1] - b[1], c[0] - b[0]) - np.arctan2(a[1] - b[1], a[0] - b[0])\n",
    "    angle = np.abs(np.degrees(radians))\n",
    "    \n",
    "    # Ensure angle is within 0-180 degrees\n",
    "    if angle > 180:\n",
    "        angle = 360 - angle\n",
    "    return angle"
   ]
  },
  {
   "cell_type": "code",
   "execution_count": 4,
   "metadata": {},
   "outputs": [],
   "source": [
    "def get_distance(landmark_list):\n",
    "    # Check if there are at least two points\n",
    "    if len(landmark_list) < 2:\n",
    "        return None  # Return None if not enough points for distance calculation\n",
    "    \n",
    "    # Unpack the points\n",
    "    (x1, y1), (x2, y2) = landmark_list[0], landmark_list[1]\n",
    "    \n",
    "    # Calculate Euclidean distance between the two points\n",
    "    distance = np.hypot(x2 - x1, y2 - y1)\n",
    "    \n",
    "    # Optional: scale distance to a desired range, e.g., 0 to 1000\n",
    "    scaled_distance = np.interp(distance, [0, 1], [0, 1000])\n",
    "    return scaled_distance"
   ]
  },
  {
   "cell_type": "code",
   "execution_count": 5,
   "metadata": {},
   "outputs": [],
   "source": [
    "def find_finger_tip(processed):\n",
    "    if processed.multi_hand_landmarks:\n",
    "        hand_landmarks = processed.multi_hand_landmarks[0]  # Assuming only one hand is detected\n",
    "        index_finger_tip = hand_landmarks.landmark[mpHands.HandLandmark.INDEX_FINGER_TIP]\n",
    "        return index_finger_tip\n",
    "    return None"
   ]
  },
  {
   "cell_type": "code",
   "execution_count": 6,
   "metadata": {},
   "outputs": [],
   "source": [
    "def move_mouse(index_finger_tip):\n",
    "    if index_finger_tip is not None:\n",
    "        x = int(index_finger_tip.x * screen_width)\n",
    "        y = int(index_finger_tip.y * screen_height)\n",
    "        pyautogui.moveTo(x, y)"
   ]
  },
  {
   "cell_type": "code",
   "execution_count": 7,
   "metadata": {},
   "outputs": [],
   "source": [
    "\n",
    "\n",
    "def is_left_click(landmark_list, thumb_index_dist):\n",
    "    return (\n",
    "        get_angle(landmark_list[5], landmark_list[6], landmark_list[8]) < 50 and\n",
    "        get_angle(landmark_list[9], landmark_list[10], landmark_list[12]) > 90 and\n",
    "        thumb_index_dist > 50\n",
    "    )\n",
    "def is_right_click(landmark_list, thumb_index_dist):\n",
    "    return (\n",
    "        get_angle(landmark_list[9], landmark_list[10], landmark_list[12]) < 50 and\n",
    "        get_angle(landmark_list[5], landmark_list[6], landmark_list[8]) > 90 and\n",
    "        thumb_index_dist > 50\n",
    "    )\n",
    "\n",
    "def is_double_click(landmark_list, thumb_index_dist):\n",
    "    return (\n",
    "        get_angle(landmark_list[5], landmark_list[6], landmark_list[8]) < 50 and\n",
    "        get_angle(landmark_list[9], landmark_list[10], landmark_list[12]) < 50 and\n",
    "        thumb_index_dist > 50\n",
    "    )\n",
    "\n",
    "def is_screenshot(landmark_list, thumb_index_dist):\n",
    "    return (\n",
    "        get_angle(landmark_list[5], landmark_list[6], landmark_list[8]) < 50 and\n",
    "        get_angle(landmark_list[9], landmark_list[10], landmark_list[12]) < 50 and\n",
    "        thumb_index_dist < 50\n",
    "    )"
   ]
  },
  {
   "cell_type": "code",
   "execution_count": 8,
   "metadata": {},
   "outputs": [],
   "source": [
    "def take_screenshot():\n",
    "    im1 = pyautogui.screenshot()\n",
    "    label = random.randint(1, 1000)\n",
    "    im1.save(f'my_screenshot_{label}.png')\n",
    "    print(f\"Screenshot saved as my_screenshot_{label}.png\")"
   ]
  },
  {
   "cell_type": "code",
   "execution_count": 9,
   "metadata": {},
   "outputs": [],
   "source": [
    "def detect_gesture(frame, landmark_list, processed):\n",
    "    if len(landmark_list) >= 21:\n",
    "        # Calculate index finger tip and thumb-index distance\n",
    "        index_finger_tip = find_finger_tip(processed)\n",
    "        thumb_index_dist = get_distance([landmark_list[4], landmark_list[5]])\n",
    "\n",
    "        if index_finger_tip is not None:\n",
    "            move_mouse(index_finger_tip)\n",
    "        \n",
    "                # Check for click gestures\n",
    "        if thumb_index_dist is not None:\n",
    "            if is_left_click(landmark_list, thumb_index_dist):\n",
    "                mouse.press(Button.left)\n",
    "                mouse.release(Button.left)\n",
    "                cv2.putText(frame, \"Left Click\", (50, 50), cv2.FONT_HERSHEY_SIMPLEX, 1, (0, 255, 0), 2)\n",
    "            elif is_right_click(landmark_list, thumb_index_dist):\n",
    "                mouse.press(Button.right)\n",
    "                mouse.release(Button.right)\n",
    "                cv2.putText(frame, \"Right Click\", (50, 50), cv2.FONT_HERSHEY_SIMPLEX, 1, (0, 0, 255), 2)\n",
    "            elif is_double_click(landmark_list, thumb_index_dist):\n",
    "                pyautogui.doubleClick()\n",
    "                cv2.putText(frame, \"Double Click\", (50, 50), cv2.FONT_HERSHEY_SIMPLEX, 1, (255, 255, 0), 2)\n",
    "            elif is_screenshot(landmark_list, thumb_index_dist):\n",
    "                take_screenshot()\n",
    "                cv2.putText(frame, \"Screenshot Taken\", (50, 50), cv2.FONT_HERSHEY_SIMPLEX, 1, (255, 255, 0), 2)"
   ]
  },
  {
   "cell_type": "code",
   "execution_count": 10,
   "metadata": {},
   "outputs": [],
   "source": [
    "def main():\n",
    "    draw = mp.solutions.drawing_utils\n",
    "    cap = cv2.VideoCapture(0)\n",
    "\n",
    "    try:\n",
    "        while cap.isOpened():\n",
    "            ret, frame = cap.read()\n",
    "            if not ret:\n",
    "                break\n",
    "            frame = cv2.flip(frame, 1)\n",
    "            frameRGB = cv2.cvtColor(frame, cv2.COLOR_BGR2RGB)\n",
    "            processed = hands.process(frameRGB)\n",
    "            landmark_list = []\n",
    "            if processed.multi_hand_landmarks:\n",
    "                hand_landmarks = processed.multi_hand_landmarks[0]  # Assuming only one hand is detected\n",
    "                draw.draw_landmarks(frame, hand_landmarks, mpHands.HAND_CONNECTIONS)\n",
    "                for lm in hand_landmarks.landmark:\n",
    "                    landmark_list.append((lm.x, lm.y))\n",
    "\n",
    "            detect_gesture(frame, landmark_list, processed)\n",
    "\n",
    "            cv2.imshow('Frame', frame)\n",
    "            if cv2.waitKey(1) & 0xFF == ord('q'):\n",
    "                break\n",
    "    finally:\n",
    "        cap.release()\n",
    "        cv2.destroyAllWindows()\n",
    "\n",
    "if __name__ == '__main__':\n",
    "    main()"
   ]
  }
 ],
 "metadata": {
  "kernelspec": {
   "display_name": "Python 3",
   "language": "python",
   "name": "python3"
  },
  "language_info": {
   "codemirror_mode": {
    "name": "ipython",
    "version": 3
   },
   "file_extension": ".py",
   "mimetype": "text/x-python",
   "name": "python",
   "nbconvert_exporter": "python",
   "pygments_lexer": "ipython3",
   "version": "3.12.3"
  }
 },
 "nbformat": 4,
 "nbformat_minor": 2
}
